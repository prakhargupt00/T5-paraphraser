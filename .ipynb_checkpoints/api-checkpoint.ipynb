{
 "cells": [
  {
   "cell_type": "markdown",
   "metadata": {},
   "source": [
    "# Visual Genome API"
   ]
  },
  {
   "cell_type": "code",
   "execution_count": 12,
   "metadata": {
    "collapsed": false
   },
   "outputs": [
    {
     "name": "stdout",
     "output_type": "stream",
     "text": [
      "[2001, 2002, 2003, 2004, 2005, 2006, 2007, 2008, 2009, 2010, 2011]\n",
      "<class 'visual_genome.models.Image'>\n"
     ]
    }
   ],
   "source": [
    "from visual_genome import api\n",
    "#getting ids in a specific range\n",
    "ids = api.get_image_ids_in_range(start_index=2000, end_index=2010)\n",
    "print(ids)\n",
    "image = api.get_image_data(id=61512)\n",
    "print(type(image))"
   ]
  },
  {
   "cell_type": "code",
   "execution_count": 20,
   "metadata": {
    "collapsed": false
   },
   "outputs": [
    {
     "name": "stdout",
     "output_type": "stream",
     "text": [
      "id: 1382, x: 421, y: 57, width: 82,height: 139, phrase: the clock is green in colour, image: 1\n"
     ]
    }
   ],
   "source": [
    "graph = api.get_region_descriptions_of_image(1)\n",
    "print(graph[0])"
   ]
  },
  {
   "cell_type": "markdown",
   "metadata": {},
   "source": [
    "# coco API"
   ]
  }
 ],
 "metadata": {
  "anaconda-cloud": {},
  "kernelspec": {
   "display_name": "Python [conda root]",
   "language": "python",
   "name": "conda-root-py"
  },
  "language_info": {
   "codemirror_mode": {
    "name": "ipython",
    "version": 3
   },
   "file_extension": ".py",
   "mimetype": "text/x-python",
   "name": "python",
   "nbconvert_exporter": "python",
   "pygments_lexer": "ipython3",
   "version": "3.5.2"
  }
 },
 "nbformat": 4,
 "nbformat_minor": 1
}
